{
 "cells": [
  {
   "cell_type": "code",
   "execution_count": 26,
   "id": "bd49ad20-97c9-436d-9489-42071a0299a7",
   "metadata": {},
   "outputs": [],
   "source": [
    "import numpy as np\n",
    "\n",
    "#converting a list to Array"
   ]
  },
  {
   "cell_type": "code",
   "execution_count": 30,
   "id": "c79f697a-b98a-4c33-84da-2b91b82448fb",
   "metadata": {},
   "outputs": [
    {
     "name": "stdout",
     "output_type": "stream",
     "text": [
      "<class 'list'>\n",
      "<class 'numpy.ndarray'>\n",
      "[1 2 3 4]\n"
     ]
    }
   ],
   "source": [
    "lst=[1,2,3,4]\n",
    "print(type(lst))\n",
    "arr=np.array(lst)\n",
    "print(type(arr))\n",
    "arr=np.array(lst)\n",
    "print(arr)"
   ]
  },
  {
   "cell_type": "code",
   "execution_count": 32,
   "id": "a0610dde-1203-41c7-aa00-750d3d1bff3c",
   "metadata": {},
   "outputs": [
    {
     "name": "stdout",
     "output_type": "stream",
     "text": [
      "[1 3 5 7 9]\n"
     ]
    }
   ],
   "source": [
    "#Arrange function\n",
    "arr=np.arange(1,10,2)\n",
    "print(arr)"
   ]
  },
  {
   "cell_type": "code",
   "execution_count": 33,
   "id": "9b7310d6-e942-4dc5-8f74-535141c55ad9",
   "metadata": {},
   "outputs": [
    {
     "data": {
      "text/plain": [
       "array([[1, 2, 3],\n",
       "       [4, 5, 6],\n",
       "       [7, 8, 9]])"
      ]
     },
     "execution_count": 33,
     "metadata": {},
     "output_type": "execute_result"
    }
   ],
   "source": [
    "#Multidimensional Array\n",
    "arr=np.array([[1,2,3],[4,5,6],[7,8,9]])\n",
    "arr"
   ]
  },
  {
   "cell_type": "code",
   "execution_count": 35,
   "id": "caebd08b-530a-421b-bb6d-98e8b59989be",
   "metadata": {},
   "outputs": [
    {
     "name": "stdout",
     "output_type": "stream",
     "text": [
      "Total :  9\n",
      "Row:  3\n",
      "Column:  3\n"
     ]
    }
   ],
   "source": [
    "#Size function\n",
    "\n",
    "arr=np.array([[1,2,3],[4,5,6],[7,8,9]])\n",
    "print('Total : ', arr.size)\n",
    "print('Row: ',np.size(arr,0))\n",
    "print('Column: ',np.size(arr,1))"
   ]
  },
  {
   "cell_type": "code",
   "execution_count": 37,
   "id": "f35025ca-dfaf-484d-8fdf-114f58fb171b",
   "metadata": {},
   "outputs": [
    {
     "name": "stdout",
     "output_type": "stream",
     "text": [
      "(4, 3)\n",
      "(4, 3)\n"
     ]
    }
   ],
   "source": [
    "#Shape function\n",
    "\n",
    "arr=np.array([[1,2,3],[4,5,6],[7,8,9],[1,2,3]])\n",
    "print((np.size(arr,0),np.size(arr,1)))\n",
    "print(arr.shape)\n"
   ]
  },
  {
   "cell_type": "code",
   "execution_count": 41,
   "id": "39f7f1e7-85a4-487f-bc88-6eda4297c292",
   "metadata": {},
   "outputs": [
    {
     "name": "stdout",
     "output_type": "stream",
     "text": [
      "int64\n",
      "float64\n"
     ]
    }
   ],
   "source": [
    "#Dtype function\n",
    "arr1=np.array([1,2,3,1,2,3])\n",
    "arr2=np.array([1.2,2.3,3.1])\n",
    "print(arr1.dtype)\n",
    "print(arr2.dtype)"
   ]
  },
  {
   "cell_type": "code",
   "execution_count": 44,
   "id": "3b920d5a-1596-4fee-ad8e-69c0384261be",
   "metadata": {},
   "outputs": [
    {
     "data": {
      "text/plain": [
       "array([ 1.  ,  3.25,  5.5 ,  7.75, 10.  ])"
      ]
     },
     "execution_count": 44,
     "metadata": {},
     "output_type": "execute_result"
    }
   ],
   "source": [
    "#Linspace function\n",
    "#The numpy.linspace() function returns number spaces evenly w.r.t interval. \n",
    "#Similar to numpy.arange() function but instead of step it uses sample number.\n",
    "\n",
    "np.linspace(1,10,5)"
   ]
  },
  {
   "cell_type": "code",
   "execution_count": 46,
   "id": "6d03a235-1ad8-49d3-8a4d-c064a9a4fa7b",
   "metadata": {},
   "outputs": [
    {
     "name": "stdout",
     "output_type": "stream",
     "text": [
      "(3, 4)\n",
      "[[ 7 12 14  4]\n",
      " [ 2  3 11  6]\n",
      " [ 6  3  8  1]]\n",
      "--------------------\n",
      "(12,)\n",
      "[ 7 12 14  4  2  3 11  6  6  3  8  1]\n"
     ]
    }
   ],
   "source": [
    "#Flatten function\n",
    "#npdaaray.flatten() function return a copy of the array collapsed into 1D\n",
    "\n",
    "arr=np.random.randint(1,15,(3,4))\n",
    "\n",
    "print(arr.shape)\n",
    "print(arr)\n",
    "print('-'*20)\n",
    "arr=arr.flatten()\n",
    "print(arr.shape)\n",
    "print(arr)"
   ]
  },
  {
   "cell_type": "code",
   "execution_count": 48,
   "id": "affa90e5-7d7b-4604-b61c-c9d0f9613f19",
   "metadata": {},
   "outputs": [
    {
     "name": "stdout",
     "output_type": "stream",
     "text": [
      "[  100.           166.81005372   278.25594022   464.15888336\n",
      "   774.26368268  1291.54966501  2154.43469003  3593.8136638\n",
      "  5994.84250319 10000.        ]\n",
      "--------------------\n",
      "[ 4.          4.66611616  5.44316     6.34960421  7.4069977   8.64047791\n",
      " 10.0793684  11.75787594 13.71590373 16.        ]\n"
     ]
    }
   ],
   "source": [
    "#LogSpace function\n",
    "#The np.logspace()  return no. spaces w.r.t interval on a log scale.\n",
    "\n",
    "print(np.logspace(2,4,10))\n",
    "print('-'*20)\n",
    "print(np.logspace(2,4,10, base=2))"
   ]
  },
  {
   "cell_type": "code",
   "execution_count": 50,
   "id": "9a0b308b-9efa-43f7-82a8-4c8025fdbdfa",
   "metadata": {},
   "outputs": [
    {
     "name": "stdout",
     "output_type": "stream",
     "text": [
      "[ 7 10  2  5  7 14  9  2  9 14] 2009462912656\n",
      "[ 7 10  2  5  7 14  9  2  9 14] 2009462912656\n",
      "--------------------------------------------------\n",
      "[ 4  6  7  4 12  5  5  1  3 14] 2009462913232\n",
      "[ 4  6  7  4 12  5  5  1  3 14] 2009462914480\n"
     ]
    }
   ],
   "source": [
    "#Copy function\n",
    "#If we normally use the equals sign then the **id** of both the numpy array will be same, so we need to use to copy function\n",
    "\n",
    "arr1=np.random.randint(1,15,10)\n",
    "arr2=arr1\n",
    "print(arr1,id(arr1))\n",
    "print(arr2,id(arr2))\n",
    "print('-'*50)\n",
    "arr1=np.random.randint(1,15,10)\n",
    "arr2=np.copy(arr1)\n",
    "print(arr1, id(arr1))\n",
    "print(arr2, id(arr2))\n"
   ]
  },
  {
   "cell_type": "code",
   "execution_count": 51,
   "id": "5a479514-7815-4b48-8d1b-f23485e0d88d",
   "metadata": {},
   "outputs": [
    {
     "name": "stdout",
     "output_type": "stream",
     "text": [
      "--------------------\n",
      "[[ 6 25  8 18 26]\n",
      " [ 6  3 29  3 12]\n",
      " [13 14  5 14 29]]\n",
      "--------------------\n",
      "MAX:  29\n",
      "MIN:  3\n",
      "SUM:  211\n"
     ]
    }
   ],
   "source": [
    "#arr.max(), arr.min(), arr.sum() functions\n",
    "#we can get particular column and row sum using \n",
    "#axis=0 for column\n",
    "#axis=1 for row\n",
    "\n",
    "arr=np.random.randint(1,30,(3,5))\n",
    "print('-'*20)\n",
    "print(arr)\n",
    "print('-'*20)\n",
    "\n",
    "print('MAX: ',arr.max())\n",
    "print('MIN: ',arr.min())\n",
    "print('SUM: ',arr.sum())"
   ]
  },
  {
   "cell_type": "code",
   "execution_count": 2,
   "id": "9509b16c-1dc2-4566-bf71-44fb2777e388",
   "metadata": {},
   "outputs": [
    {
     "data": {
      "text/plain": [
       "array([[9, 4, 9, 9, 1],\n",
       "       [6, 4, 6, 8, 7],\n",
       "       [1, 5, 8, 9, 2]], dtype=int32)"
      ]
     },
     "execution_count": 2,
     "metadata": {},
     "output_type": "execute_result"
    }
   ],
   "source": [
    "#seed function\n",
    "#random() function is used to generate random numbers in Python. \n",
    "#Not actually random, rather this is used to generate pseudo-random numbers. \n",
    "#That implies that these randomly generated numbers can be determined. random() function generates numbers for some values. \n",
    "#This value is also called seed value.\n",
    "\n",
    "#syntax: random.seed(l,version)<br>\n",
    "#where l=any seed value used to product a random number\n",
    "# and version=a Int used to specify how to convert l in a int\n",
    "import numpy as np\n",
    "\n",
    "np.random.seed(3)\n",
    "arr=np.random.randint(1,10,(3,5))\n",
    "arr\n",
    "\n",
    "\n"
   ]
  },
  {
   "cell_type": "code",
   "execution_count": 4,
   "id": "3bdf5976-9602-4c94-a2d5-05032ce51304",
   "metadata": {},
   "outputs": [
    {
     "name": "stdout",
     "output_type": "stream",
     "text": [
      "---------------\n",
      "[[9 4 9 9 1]\n",
      " [6 4 6 8 7]\n",
      " [1 5 8 9 2]]\n",
      "---------------\n",
      "[[1 4 9 9 9]\n",
      " [4 6 6 7 8]\n",
      " [1 2 5 8 9]]\n",
      "---------------\n",
      "[[1 4 6 8 1]\n",
      " [6 4 8 9 2]\n",
      " [9 5 9 9 7]]\n",
      "---------------\n",
      "[[1 1 2 4 4]\n",
      " [5 6 6 7 8]\n",
      " [8 9 9 9 9]]\n",
      "---------------\n"
     ]
    }
   ],
   "source": [
    "#sorting function\n",
    "#return sorted copy of an array\n",
    "\n",
    "np.random.seed(3)\n",
    "arr = np.random.randint(1,10,(3,5))\n",
    "\n",
    "\n",
    "print('-'*15)\n",
    "print(arr)\n",
    "print('-'*15)\n",
    "print(np.sort(arr, axis = 1))\n",
    "print('-'*15)\n",
    "print(np.sort(arr, axis = 0))\n",
    "print('-'*15)\n",
    "\n",
    "arr = np.reshape(np.sort(arr.flatten()), arr.shape)\n",
    "print(arr)\n",
    "print('-'*15)"
   ]
  },
  {
   "cell_type": "code",
   "execution_count": 8,
   "id": "6f220a68-aa13-4599-ba2a-65ee4df75368",
   "metadata": {},
   "outputs": [
    {
     "name": "stdout",
     "output_type": "stream",
     "text": [
      "ADDITION\n",
      "---------------\n",
      "[[9 4 9 9 1]\n",
      " [6 4 6 8 7]\n",
      " [1 5 8 9 2]]\n",
      "---------------\n",
      "[[10  5 10 10  2]\n",
      " [ 7  5  7  9  8]\n",
      " [ 2  6  9 10  3]]\n",
      "---------------\n",
      "SUBSTRACTION\n",
      "---------------\n",
      "[[9 4 9 9 1]\n",
      " [6 4 6 8 7]\n",
      " [1 5 8 9 2]]\n",
      "---------------\n",
      "[[8 3 8 8 0]\n",
      " [5 3 5 7 6]\n",
      " [0 4 7 8 1]]\n",
      "---------------\n",
      "MULTIPLICATION\n",
      "---------------\n",
      "[[9 4 9 9 1]\n",
      " [6 4 6 8 7]\n",
      " [1 5 8 9 2]]\n",
      "---------------\n",
      "[[4.5 2.  4.5 4.5 0.5]\n",
      " [3.  2.  3.  4.  3.5]\n",
      " [0.5 2.5 4.  4.5 1. ]]\n",
      "---------------\n",
      "POWER\n",
      "[[9 4 9 9 1]\n",
      " [6 4 6 8 7]\n",
      " [1 5 8 9 2]]\n",
      "---------------\n",
      "[[81 16 81 81  1]\n",
      " [36 16 36 64 49]\n",
      " [ 1 25 64 81  4]]\n"
     ]
    }
   ],
   "source": [
    "#Mathematical Operations\n",
    "\n",
    "#---Addition---\n",
    "print(\"ADDITION\")\n",
    "np.random.seed(3)\n",
    "arr=np.random.randint(1,10,(3,5))\n",
    "print('-' * 15)\n",
    "print(arr)\n",
    "print('-' * 15)\n",
    "print(arr + 1)\n",
    "print('-' * 15)\n",
    "\n",
    "#--Substraction--\n",
    "print(\"SUBSTRACTION\")\n",
    "print('-' * 15)\n",
    "print(arr)\n",
    "print('-' * 15)\n",
    "print(arr - 1)\n",
    "print('-' * 15)\n",
    "\n",
    "#--Multiplication\n",
    "print(\"MULTIPLICATION\")\n",
    "print('-' * 15)\n",
    "print(arr)\n",
    "print('-' * 15)\n",
    "print(arr / 2)\n",
    "print('-' * 15)\n",
    "\n",
    "#--Power--\n",
    "print(\"POWER\")\n",
    "print(arr)\n",
    "print('-'*15)\n",
    "print(arr ** 2)"
   ]
  },
  {
   "cell_type": "code",
   "execution_count": 10,
   "id": "ff8c04cf-40ef-41cb-a74a-f87d22537ad3",
   "metadata": {},
   "outputs": [
    {
     "name": "stdout",
     "output_type": "stream",
     "text": [
      "[9 4 9 9 1 6 4 6 8 7]\n",
      "[1 4 4 6 6 7 8 9 9 9]\n",
      "6.5\n"
     ]
    }
   ],
   "source": [
    "#Percentile function\n",
    "#used to compute the nth percentile of the given data along the specified axis\n",
    "\n",
    "np.random.seed(3)\n",
    "arr=np.random.randint(1,10,10)\n",
    "print(arr)\n",
    "arr=np.sort(arr)\n",
    "print(arr)\n",
    "print(np.percentile(arr,50))"
   ]
  },
  {
   "cell_type": "code",
   "execution_count": 11,
   "id": "82879379-05ef-4a52-a3cf-44ae971403c4",
   "metadata": {},
   "outputs": [
    {
     "name": "stdout",
     "output_type": "stream",
     "text": [
      "[1 5 8 9 2 7 3 3 2 4]\n",
      "4.4\n",
      "6.839999999999999\n",
      "2.6153393661244038\n"
     ]
    }
   ],
   "source": [
    "#Mean, Variance, Standard Deviation\n",
    "#used np.mean(), np.std(), np.var()\n",
    "arr=np.random.randint(1,10,10)\n",
    "print(arr)\n",
    "print(arr.mean())\n",
    "print(arr.var())\n",
    "print(arr.std())\n"
   ]
  },
  {
   "cell_type": "code",
   "execution_count": 12,
   "id": "daebcdbc-7adc-467f-905d-cbf51b065593",
   "metadata": {},
   "outputs": [
    {
     "name": "stdout",
     "output_type": "stream",
     "text": [
      "[1 2 3 4 5 6 7 8 9]\n",
      "[ True  True  True  True False False False False False]\n",
      "[1 2 3 4]\n"
     ]
    }
   ],
   "source": [
    "#Filtering an numpy array\n",
    "arr=np.arange(1,10)\n",
    "print(arr)\n",
    "print(arr<5)\n",
    "print(arr[arr<5])"
   ]
  },
  {
   "cell_type": "code",
   "execution_count": 13,
   "id": "abb58afe-a6e1-4370-853e-efe411ba8e6c",
   "metadata": {},
   "outputs": [
    {
     "name": "stdout",
     "output_type": "stream",
     "text": [
      "[[ 6  9 15  2 11]\n",
      " [ 8 12  2 16 17]\n",
      " [ 6 18 15  1  1]]\n",
      "--------------------\n",
      "[[ 6  8  6]\n",
      " [ 9 12 18]\n",
      " [15  2 15]\n",
      " [ 2 16  1]\n",
      " [11 17  1]]\n"
     ]
    }
   ],
   "source": [
    "#Tranposing an array\n",
    "arr=np.random.randint(1,20,(3,5))\n",
    "print(arr)\n",
    "print('-'*20)\n",
    "print(arr.T)\n"
   ]
  },
  {
   "cell_type": "code",
   "execution_count": 15,
   "id": "1e2d9b2d-8ae1-4570-b618-753fea7bf8f2",
   "metadata": {},
   "outputs": [
    {
     "name": "stdout",
     "output_type": "stream",
     "text": [
      "--------------------\n",
      "[86 75 92 17 81 33 17 19 76 56]\n",
      "['even' '75' 'even' '17' '81' '33' '17' '19' 'even' 'even']\n",
      "['odd' '75' 'odd' '17' '81' '33' '17' '19' 'odd' 'odd']\n",
      "['even' 'odd' 'even' 'odd' 'odd' 'odd' 'odd' 'odd' 'even' 'even']\n"
     ]
    }
   ],
   "source": [
    "#where function\n",
    "#return indices of elements in an input array where the given condition is satisfied\n",
    "\n",
    "arr = np.random.randint(1,100,10)\n",
    "arr\n",
    "print('-'*20)\n",
    "print(arr)\n",
    "print(np.where(arr%2==0, 'even', arr))\n",
    "print(np.where(arr%2==0, 'odd', arr))\n",
    "arr1=np.where(arr%2==0, 'even', arr)\n",
    "arr1=np.where(arr%2!=0, 'odd', arr1)\n",
    "print(arr1)"
   ]
  },
  {
   "cell_type": "code",
   "execution_count": 16,
   "id": "78be36f8-477f-409a-9dad-a1b748fdff5e",
   "metadata": {},
   "outputs": [
    {
     "name": "stdout",
     "output_type": "stream",
     "text": [
      "[[1 6 1 2]\n",
      " [5 2 3 3]]\n",
      "---------------\n",
      "[[5 9 1 7]\n",
      " [1 5 2 6]]\n",
      "------------------------------\n",
      "[[1 6 1 2]\n",
      " [5 2 3 3]\n",
      " [5 9 1 7]\n",
      " [1 5 2 6]]\n",
      "------------------------------\n",
      "[[1 6 1 2 5 9 1 7]\n",
      " [5 2 3 3 1 5 2 6]]\n"
     ]
    }
   ],
   "source": [
    "#Merging Arrays\n",
    "arr1 = np.random.randint(1,10,(2,4))\n",
    "arr2 = np.random.randint(1,10,(2,4))\n",
    "\n",
    "print(arr1)\n",
    "print('-'*15)\n",
    "print(arr2)\n",
    "\n",
    "print('-'*30)\n",
    "print(np.concatenate((arr1,arr2), axis = 0))\n",
    "print('-'*30)\n",
    "print(np.concatenate((arr1,arr2), axis = 1))"
   ]
  },
  {
   "cell_type": "code",
   "execution_count": 19,
   "id": "d6c865e0-067e-4f9f-9c73-d1b72f948f99",
   "metadata": {},
   "outputs": [
    {
     "name": "stdout",
     "output_type": "stream",
     "text": [
      "[[8 2 1 1]\n",
      " [6 9 5 9]]\n",
      "---------------\n",
      "[[9 4 5 3]\n",
      " [6 5 8 2]]\n",
      "---------------\n",
      "[[8 2 1 1 9 4 5 3]\n",
      " [6 9 5 9 6 5 8 2]]\n",
      "[[8 2 1 1]\n",
      " [6 9 5 9]\n",
      " [9 4 5 3]\n",
      " [6 5 8 2]]\n"
     ]
    }
   ],
   "source": [
    "#Vstack and Hstack\n",
    "# these are used to stack the sequence of the input array horizontally  and vertically\n",
    "\n",
    "arr1 = np.random.randint(1,10,(2,4))\n",
    "arr2 = np.random.randint(1,10,(2,4))\n",
    "\n",
    "print(arr1)\n",
    "print('-'*15)\n",
    "print(arr2)\n",
    "print('-'*15)\n",
    "\n",
    "print(np.hstack((arr1,arr2)))\n",
    "print(np.vstack((arr1,arr2)))"
   ]
  },
  {
   "cell_type": "code",
   "execution_count": 20,
   "id": "64e4b5f4-6303-4238-bcd4-7bfc1861665c",
   "metadata": {},
   "outputs": [
    {
     "name": "stdout",
     "output_type": "stream",
     "text": [
      "[[1 8 5 9]\n",
      " [9 5 2 5]\n",
      " [1 6 7 8]\n",
      " [1 8 9 2]]\n"
     ]
    },
    {
     "data": {
      "text/plain": [
       "[array([[1, 8],\n",
       "        [9, 5],\n",
       "        [1, 6],\n",
       "        [1, 8]], dtype=int32),\n",
       " array([[5, 9],\n",
       "        [2, 5],\n",
       "        [7, 8],\n",
       "        [9, 2]], dtype=int32)]"
      ]
     },
     "execution_count": 20,
     "metadata": {},
     "output_type": "execute_result"
    }
   ],
   "source": [
    "#Splitting Array\n",
    "arr=np.random.randint(1,10,(4,4))\n",
    "print(arr)\n",
    "\n",
    "np.vsplit(arr,2)\n",
    "np.hsplit(arr,2)"
   ]
  },
  {
   "cell_type": "code",
   "execution_count": 21,
   "id": "2733f003-335c-49c2-be49-c1d401c79294",
   "metadata": {},
   "outputs": [
    {
     "data": {
      "text/plain": [
       "(607, 1000, 3)"
      ]
     },
     "execution_count": 21,
     "metadata": {},
     "output_type": "execute_result"
    }
   ],
   "source": [
    "#Turning the pic into Numpy array\n",
    "\n",
    "from matplotlib.image import imread\n",
    "\n",
    "img = imread('GFG.png')\n",
    "\n",
    "img.shape"
   ]
  },
  {
   "cell_type": "code",
   "execution_count": null,
   "id": "11a666af-d942-43ab-8bfe-2c588e7d0a64",
   "metadata": {},
   "outputs": [],
   "source": []
  }
 ],
 "metadata": {
  "kernelspec": {
   "display_name": "Python [conda env:base] *",
   "language": "python",
   "name": "conda-base-py"
  },
  "language_info": {
   "codemirror_mode": {
    "name": "ipython",
    "version": 3
   },
   "file_extension": ".py",
   "mimetype": "text/x-python",
   "name": "python",
   "nbconvert_exporter": "python",
   "pygments_lexer": "ipython3",
   "version": "3.13.5"
  }
 },
 "nbformat": 4,
 "nbformat_minor": 5
}
